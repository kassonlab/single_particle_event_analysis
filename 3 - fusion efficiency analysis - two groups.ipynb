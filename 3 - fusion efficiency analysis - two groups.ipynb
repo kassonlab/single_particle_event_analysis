{
 "cells": [
  {
   "cell_type": "code",
   "execution_count": 1,
   "id": "83cd8a0f",
   "metadata": {},
   "outputs": [],
   "source": [
    "import pandas as pd\n",
    "from scipy import stats\n",
    "import matplotlib.pyplot as plt\n",
    "from statsmodels.formula.api import ols\n",
    "import numpy as np\n",
    "from scipy.stats import sem"
   ]
  },
  {
   "cell_type": "markdown",
   "id": "5c803722",
   "metadata": {},
   "source": [
    "## Read in dataframe containing the fusion efficiency data"
   ]
  },
  {
   "cell_type": "code",
   "execution_count": 2,
   "id": "39996609",
   "metadata": {
    "scrolled": false
   },
   "outputs": [
    {
     "name": "stdout",
     "output_type": "stream",
     "text": [
      "input path to .xlsx file containing fusion efficiency data: /Users/steinar/Documents/Data/4 - cell vs. endosomal membrane in fusion/2 - fusion with PMV/4 - liposomes and PMV content mixing by FT Calcein incorporation/reanalysed data with trace type classification (P4E25T1 and P4E25T2)/leakage efficiency no virus/compiled leakage efficiency.xlsx\n"
     ]
    }
   ],
   "source": [
    "df_path = input(\"input path to .xlsx file containing fusion efficiency data: \")\n",
    "\n",
    "df = pd.read_excel(df_path)"
   ]
  },
  {
   "cell_type": "code",
   "execution_count": 3,
   "id": "152994cb",
   "metadata": {},
   "outputs": [],
   "source": [
    "def two_sample_t_test(df):\n",
    "    # Check if there are exactly two groups\n",
    "    groups = df[df.columns[0]].unique()\n",
    "    if len(groups) != 2:\n",
    "        raise ValueError(\"The dataframe must have exactly two groups.\")\n",
    "\n",
    "    # Check if each group has at least two samples\n",
    "    for group in groups:\n",
    "        if df[df[df.columns[0]] == group].shape[0] < 2:\n",
    "            raise ValueError(f\"At least two samples are required for each group. Group '{group}' does not have enough samples.\")\n",
    "\n",
    "    # Check for normality assumption using Shapiro-Wilk test\n",
    "    for group in groups:\n",
    "        data = df[df[df.columns[0]] == group][df.columns[-1]]\n",
    "        _, p_value = stats.shapiro(data)\n",
    "        if p_value < 0.05:\n",
    "            print(f\"Warning: The data for group '{group}' may not be normally distributed (Shapiro-Wilk p-value: {p_value:.4f}).\")\n",
    "\n",
    "    # Perform the two-sample t-test\n",
    "    group1 = df[df[df.columns[0]] == groups[0]][df.columns[-1]]\n",
    "    group2 = df[df[df.columns[0]] == groups[1]][df.columns[-1]]\n",
    "\n",
    "    _, p_value = stats.ttest_ind(group1, group2)\n",
    "\n",
    "    print(\"\\nTwo-Sample T-Test Results:\")\n",
    "    print(f\"P-Value: {p_value:.4f}\")\n",
    "\n",
    "    if p_value < 0.05:\n",
    "        print(\"The difference between the groups is statistically significant (p-value < 0.05).\")\n",
    "    else:\n",
    "        print(\"There is no significant difference between the groups (p-value >= 0.05).\")\n",
    "\n",
    "# Example usage:\n",
    "# Assuming your DataFrame is named 'df' with the desired structure\n",
    "# (groups in the first column, values in the last column)\n",
    "# two_sample_t_test(df)\n"
   ]
  },
  {
   "cell_type": "code",
   "execution_count": 4,
   "id": "4cffa469",
   "metadata": {
    "scrolled": true
   },
   "outputs": [
    {
     "name": "stdout",
     "output_type": "stream",
     "text": [
      "Warning: The data for group 'PMV' may not be normally distributed (Shapiro-Wilk p-value: -0.0000).\n",
      "\n",
      "Two-Sample T-Test Results:\n",
      "P-Value: 0.1882\n",
      "There is no significant difference between the groups (p-value >= 0.05).\n"
     ]
    }
   ],
   "source": [
    "two_sample_t_test(df)"
   ]
  },
  {
   "cell_type": "code",
   "execution_count": 5,
   "id": "d31690b6",
   "metadata": {},
   "outputs": [],
   "source": [
    "import pandas as pd\n",
    "from scipy import stats\n",
    "\n",
    "def wilcoxon_rank_sum_test(df):\n",
    "    # Check if there are exactly two groups\n",
    "    groups = df[df.columns[0]].unique()\n",
    "    if len(groups) != 2:\n",
    "        raise ValueError(\"The dataframe must have exactly two groups.\")\n",
    "\n",
    "    # Check if each group has at least two samples\n",
    "    for group in groups:\n",
    "        if df[df[df.columns[0]] == group].shape[0] < 2:\n",
    "            raise ValueError(f\"At least two samples are required for each group. Group '{group}' does not have enough samples.\")\n",
    "\n",
    "    # Perform the Wilcoxon Rank-Sum test\n",
    "    group1 = df[df[df.columns[0]] == groups[0]][df.columns[-1]]\n",
    "    group2 = df[df[df.columns[0]] == groups[1]][df.columns[-1]]\n",
    "\n",
    "    _, p_value = stats.mannwhitneyu(group1, group2, alternative='two-sided')\n",
    "\n",
    "    print(\"\\nWilcoxon Rank-Sum Test Results:\")\n",
    "    print(f\"P-Value: {p_value:.4f}\")\n",
    "\n",
    "    if p_value < 0.05:\n",
    "        print(\"The difference between the groups is statistically significant (p-value < 0.05).\")\n",
    "    else:\n",
    "        print(\"There is no significant difference between the groups (p-value >= 0.05).\")"
   ]
  },
  {
   "cell_type": "code",
   "execution_count": 6,
   "id": "28918043",
   "metadata": {},
   "outputs": [
    {
     "name": "stdout",
     "output_type": "stream",
     "text": [
      "\n",
      "Wilcoxon Rank-Sum Test Results:\n",
      "P-Value: 0.1840\n",
      "There is no significant difference between the groups (p-value >= 0.05).\n"
     ]
    }
   ],
   "source": [
    "wilcoxon_rank_sum_test(df)"
   ]
  },
  {
   "cell_type": "markdown",
   "id": "2567a501",
   "metadata": {},
   "source": [
    "## Plot barplot of data and save as .pdf"
   ]
  },
  {
   "cell_type": "code",
   "execution_count": 14,
   "id": "4d43430f",
   "metadata": {
    "scrolled": false
   },
   "outputs": [
    {
     "data": {
      "image/png": "[encoded data removed]",
      "text/plain": [
       "<Figure size 800x600 with 1 Axes>"
      ]
     },
     "metadata": {},
     "output_type": "display_data"
    }
   ],
   "source": [
    "# Calculate mean and standard error for each group\n",
    "group_means = df.groupby(df.columns[0], sort=False)[df.columns[-1]].mean()\n",
    "group_sem = df.groupby(df.columns[0], sort=False)[df.columns[-1]].apply(sem)\n",
    "\n",
    "# Create a barplot with pyplot\n",
    "groups = group_means.index\n",
    "means = group_means.values\n",
    "errors = group_sem.values\n",
    "\n",
    "# Define a color scheme for each dataset\n",
    "colors = ['lightcoral', 'red','blue', 'dodgerblue', 'tomato', 'grey', 'grey', 'grey']\n",
    "\n",
    "fig, ax = plt.subplots(figsize=(8, 6))\n",
    "ax.bar(groups, means, yerr=errors, capsize=5, color=colors, edgecolor='black')\n",
    "\n",
    "# Customize the plot\n",
    "for tick in ax.get_xticklabels():\n",
    "    tick.set_rotation(0)\n",
    "plt.xlabel('')\n",
    "plt.ylabel('vesicle rupture efficiency (fold change)')\n",
    "\n",
    "# Save the figure as a PDF file\n",
    "folder = '/Users/steinar/Desktop'\n",
    "filename = '/efficiency plot.pdf'\n",
    "plt.savefig(folder + filename, format='pdf', bbox_inches = 'tight')\n",
    "\n",
    "# Show the plot\n",
    "plt.show()"
   ]
  },
  {
   "cell_type": "code",
   "execution_count": null,
   "id": "1abd31bf",
   "metadata": {},
   "outputs": [],
   "source": []
  }
 ],
 "metadata": {
  "kernelspec": {
   "display_name": "Python 3 (ipykernel)",
   "language": "python",
   "name": "python3"
  },
  "language_info": {
   "codemirror_mode": {
    "name": "ipython",
    "version": 3
   },
   "file_extension": ".py",
   "mimetype": "text/x-python",
   "name": "python",
   "nbconvert_exporter": "python",
   "pygments_lexer": "ipython3",
   "version": "3.10.2"
  }
 },
 "nbformat": 4,
 "nbformat_minor": 5
}
