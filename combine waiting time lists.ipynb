{
 "cells": [
  {
   "cell_type": "markdown",
   "id": "84928068",
   "metadata": {},
   "source": [
    "## Import modules"
   ]
  },
  {
   "cell_type": "code",
   "execution_count": 1,
   "id": "f743d757",
   "metadata": {},
   "outputs": [],
   "source": [
    "import pandas as pd\n",
    "import os"
   ]
  },
  {
   "cell_type": "markdown",
   "id": "5b28b15e",
   "metadata": {},
   "source": [
    "## Load in all .csv files to be merged"
   ]
  },
  {
   "cell_type": "code",
   "execution_count": 2,
   "id": "ea909809",
   "metadata": {
    "scrolled": true
   },
   "outputs": [
    {
     "name": "stdout",
     "output_type": "stream",
     "text": [
      "how many waiting time lists would you like to combine? 4\n",
      "Enter the path to CSV file 1: /Users/steinar/Documents/Data/4 - cell vs. endosomal membrane in fusion/3 - IAV content mixing with PMVs/content mixing kinetics/BMP liposome content mixing 1.csv\n",
      "Enter the path to CSV file 2: /Users/steinar/Documents/Data/4 - cell vs. endosomal membrane in fusion/3 - IAV content mixing with PMVs/content mixing kinetics/BMP liposome content mixing 2.csv\n",
      "Enter the path to CSV file 3: /Users/steinar/Documents/Data/4 - cell vs. endosomal membrane in fusion/3 - IAV content mixing with PMVs/content mixing kinetics/BMP liposome content mixing 3.csv\n",
      "Enter the path to CSV file 4: /Users/steinar/Documents/Data/4 - cell vs. endosomal membrane in fusion/3 - IAV content mixing with PMVs/content mixing kinetics/BMP liposome content mixing 4.csv\n"
     ]
    }
   ],
   "source": [
    "number_of_datasets = int(input(\"how many waiting time lists would you like to combine? \"))\n",
    "\n",
    "# Create an empty DataFrame to hold the merged data\n",
    "merged_df = pd.DataFrame()\n",
    "\n",
    "# Ask the user to input three file paths\n",
    "for i in range(number_of_datasets):\n",
    "    csv_file_path = input(f\"Enter the path to CSV file {i+1}: \")\n",
    "    \n",
    "    try:\n",
    "        # Read the CSV file into a DataFrame\n",
    "        df = pd.read_csv(csv_file_path)\n",
    "        \n",
    "        # Concatenate the DataFrame to the merged_df\n",
    "        merged_df = pd.concat([merged_df, df], axis=0)\n",
    "    except FileNotFoundError:\n",
    "        print(f\"File {csv_file_path} not found. Please make sure you provide the correct file path.\")\n",
    "    except Exception as e:\n",
    "        print(f\"An error occurred: {str(e)}\")\n",
    "\n",
    "# Sort the values in the merged DataFrame in ascending order\n",
    "merged_df.sort_values(by=merged_df.columns[0], ascending=True, inplace=True)\n",
    "\n",
    "# Reset the index of the merged DataFrame\n",
    "merged_df.reset_index(drop=True, inplace=True)"
   ]
  },
  {
   "cell_type": "markdown",
   "id": "fb34761e",
   "metadata": {},
   "source": [
    "## Save the combined waiting time list in the input folder"
   ]
  },
  {
   "cell_type": "code",
   "execution_count": 3,
   "id": "c5e3792a",
   "metadata": {},
   "outputs": [
    {
     "name": "stdout",
     "output_type": "stream",
     "text": [
      "input the name extension to be added to the filename: 1-4 merged\n"
     ]
    }
   ],
   "source": [
    "filename_extension = input(\"input the name extension to be added to the filename: \")\n",
    "\n",
    "# Split the path into directory and filename using os.path.split() and add \"/\" to end of directory\n",
    "directory, filename = os.path.split(csv_file_path)\n",
    "if not directory.endswith(os.path.sep):\n",
    "    directory += os.path.sep\n",
    "\n",
    "# If you want to save the merged DataFrame to a CSV file:\n",
    "merged_df.to_csv(csv_file_path[:-5] + filename_extension + '.csv', index=False)"
   ]
  },
  {
   "cell_type": "code",
   "execution_count": null,
   "id": "768765d8",
   "metadata": {},
   "outputs": [],
   "source": []
  }
 ],
 "metadata": {
  "kernelspec": {
   "display_name": "Python 3 (ipykernel)",
   "language": "python",
   "name": "python3"
  },
  "language_info": {
   "codemirror_mode": {
    "name": "ipython",
    "version": 3
   },
   "file_extension": ".py",
   "mimetype": "text/x-python",
   "name": "python",
   "nbconvert_exporter": "python",
   "pygments_lexer": "ipython3",
   "version": "3.10.2"
  }
 },
 "nbformat": 4,
 "nbformat_minor": 5
}
